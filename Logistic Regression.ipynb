{
 "cells": [
  {
   "cell_type": "markdown",
   "id": "b5d5da10",
   "metadata": {},
   "source": [
    "<div class=\"alert alert-box alert-info\">\n",
    "    <h2 style=\"margin:0px\">Importing Libraries</h2>\n",
    " </div>"
   ]
  },
  {
   "cell_type": "code",
   "execution_count": 1,
   "id": "0afcc159",
   "metadata": {},
   "outputs": [],
   "source": [
    "from sklearn.datasets import load_breast_cancer\n",
    "import numpy as np\n",
    "import pickle as pkl\n",
    "from sklearn.preprocessing import StandardScaler\n",
    "from sklearn.metrics import accuracy_score\n",
    "from sklearn.model_selection import train_test_split\n",
    "import warnings\n",
    "warnings.filterwarnings(\"ignore\")"
   ]
  },
  {
   "cell_type": "markdown",
   "id": "37f62e14",
   "metadata": {},
   "source": [
    "<div class=\"\">\n",
    "    <h2 style=\"margin:80px\"></h2>\n",
    " </div>"
   ]
  },
  {
   "cell_type": "markdown",
   "id": "0685d7db",
   "metadata": {},
   "source": [
    "<div class=\"alert alert-box alert-info\">\n",
    "    <h2 style=\"margin:0px\">Linear Regression</h2>\n",
    " </div>"
   ]
  },
  {
   "cell_type": "code",
   "execution_count": 22,
   "id": "856dc299",
   "metadata": {},
   "outputs": [],
   "source": [
    "class LinearRegression:\n",
    "    def __init__(self,learning_rate=0.1,iteration=5000):\n",
    "        \"\"\"LinearRegression implementation \n",
    "        Learning_rate = rate of gradient descent reaching minima\n",
    "        iteration = number of iteration - (can only be integer)\"\"\"\n",
    "        self.itr=iteration\n",
    "        self.lr=learning_rate\n",
    "        self.weights=None\n",
    "        self.bias=None\n",
    "        self.samples=0\n",
    "        self.features=0\n",
    "        \n",
    "    def _init_params(self):\n",
    "        #initializing the parameters\n",
    "        self.weights=np.zeros(self.features)\n",
    "        self.bias=0\n",
    "        \n",
    "    def _calculate_cost(self, y, y_pred):\n",
    "        return (1 / (2*self.samples)) * np.sum(np.square(y_pred-y))\n",
    "        #cost function - repeat untill convergence\n",
    "        \n",
    "    def _get_prediction(self,X):\n",
    "        return np.dot(X,self.weights)+self.bias\n",
    "        #get the prediction for the current values of weights and bias\n",
    "        \n",
    "    def _update_params(self,dw,db):\n",
    "        self.weights-=self.lr*dw\n",
    "        self.bias-=self.lr*db\n",
    "        #lr - learning rate\n",
    "        \n",
    "    def _get_gradient(self,X,y,y_pred):\n",
    "        error=y_pred-y\n",
    "        dw=(1/self.samples)*np.dot(X.T,error)\n",
    "        db=(1/self.samples)*np.sum(error)\n",
    "        #partial derivative\n",
    "        return dw,db\n",
    "      \n",
    "    def fit(self,X,y):\n",
    "        #fit function trains the model\n",
    "        self.samples,self.features=X.shape\n",
    "        self._init_params()\n",
    "        try:\n",
    "            for i in range(self.itr):\n",
    "                y_pred=self._get_prediction(X)\n",
    "                cost=self._calculate_cost(y,y_pred)\n",
    "                dw,db=self._get_gradient(X,y,y_pred)\n",
    "                self._update_params(dw,db)\n",
    "                if i % 100 == 0:\n",
    "                    print(f\"The Cost in iteration {i}----->{cost}\") \n",
    "        except ValueError:\n",
    "            print(\"nan value or some unidentified values found\")\n",
    "        except Exception as e:\n",
    "            print(f\"Exception found {e}\") \n",
    "            \n",
    "    def predict(self,X):\n",
    "        return self._get_prediction(X)\n",
    "        #calls _get_prediction method\n",
    "        \n",
    "    def save_model(self):\n",
    "        try:\n",
    "            file = open('Linear_regression.pkl', 'wb')\n",
    "            pkl.dump(self,file)\n",
    "            file.close()\n",
    "            #save the model for deployment or for future training\n",
    "        except Exception as e:\n",
    "            print(f\"Exception found {e}\")\n"
   ]
  },
  {
   "cell_type": "markdown",
   "id": "aed9665e",
   "metadata": {},
   "source": [
    "<div class=\"alert alert-box alert-info\">\n",
    "    <h2 style=\"margin:0px\">Logistic Regression</h2>\n",
    " </div>"
   ]
  },
  {
   "cell_type": "code",
   "execution_count": 11,
   "id": "812befd7",
   "metadata": {},
   "outputs": [],
   "source": [
    "class LogisticRegression(LinearRegression):\n",
    "    def __init__(self, learning_rate=0.01, iteration=3000):\n",
    "        super().__init__(learning_rate, iteration)\n",
    "        self.sigmoid=lambda x:(1/(1+np.exp(-x)))\n",
    "        #Sigmoid function\n",
    "        \n",
    "    def _calculate_cost(self,y,y_pred):\n",
    "        c_l=-y*(np.log(y_pred))\n",
    "        c_r=(1-y)*(np.log(1-y_pred))\n",
    "        #cost function \n",
    "        \n",
    "        return (1/(self.samples))*np.sum(c_l-c_r)\n",
    "    def fit(self,X,y):\n",
    "        self.costlist=[]\n",
    "        self.samples,self.features=X.shape\n",
    "        super()._init_params()\n",
    "        for i in range(self.itr):\n",
    "            y_pred=super()._get_prediction(X)\n",
    "            y_pred=self.sigmoid(y_pred)\n",
    "            dw,db=super()._get_gradient(X,y,y_pred)\n",
    "            super()._update_params(dw,db)\n",
    "            cost=self._calculate_cost(y,y_pred)\n",
    "            self.costlist.append(cost)\n",
    "            if i%100==0:\n",
    "                print(f\"cost----> {cost}\")\n",
    "\n",
    "    def predict(self, X):\n",
    "        y_pred=self.sigmoid(super().predict(X))\n",
    "        return np.array([0 if y < 0.5 else 1 for y in y_pred])"
   ]
  },
  {
   "cell_type": "markdown",
   "id": "f27beb4a",
   "metadata": {},
   "source": [
    "<div class=\"alert alert-box alert-info\">\n",
    "    <h2 style=\"margin:0px\">Loading Dataset</h2>\n",
    " </div>"
   ]
  },
  {
   "cell_type": "code",
   "execution_count": 12,
   "id": "7f4daff5",
   "metadata": {},
   "outputs": [],
   "source": [
    "dataset=load_breast_cancer()\n",
    "X=dataset['data']\n",
    "Y=dataset['target']"
   ]
  },
  {
   "cell_type": "markdown",
   "id": "1e1d6e53",
   "metadata": {},
   "source": [
    "<div class=\"alert alert-box alert-info\">\n",
    "    <h2 style=\"margin:0px\">Test Train split and Applying Standard scaler</h2>\n",
    " </div>"
   ]
  },
  {
   "cell_type": "code",
   "execution_count": 13,
   "id": "5ec0b413",
   "metadata": {},
   "outputs": [],
   "source": [
    "X_train,X_test,y_train,y_test=train_test_split(X,Y,test_size=0.2)\n",
    "st=StandardScaler()\n",
    "X_train=st.fit_transform(X_train)\n",
    "X_test=st.transform(X_test)"
   ]
  },
  {
   "cell_type": "markdown",
   "id": "6653104a",
   "metadata": {},
   "source": [
    "<div class=\"alert alert-box alert-info\">\n",
    "    <h2 style=\"margin:0px\">Implementing Logistic regression</h2>\n",
    " </div>"
   ]
  },
  {
   "cell_type": "code",
   "execution_count": 15,
   "id": "5b2bf761",
   "metadata": {},
   "outputs": [
    {
     "name": "stdout",
     "output_type": "stream",
     "text": [
      "cost----> 0.6931471805599453\n",
      "cost----> 0.2590300593889795\n",
      "cost----> 0.19544224915162964\n",
      "cost----> 0.16632947281539393\n",
      "cost----> 0.14894864201287883\n",
      "cost----> 0.1371452705162401\n",
      "cost----> 0.12848297363231487\n",
      "cost----> 0.12178794163851804\n",
      "cost----> 0.11641860433650937\n",
      "cost----> 0.11199163742900635\n",
      "Accuracy score is: 0.9824561403508771\n"
     ]
    }
   ],
   "source": [
    "cls=LogisticRegression(0.01,1000)\n",
    "cls.fit(X_train,y_train)\n",
    "y_pred=cls.predict(X_test)\n",
    "print(f\"Accuracy score is: {accuracy_score(y_test,y_pred)}\")"
   ]
  }
 ],
 "metadata": {
  "kernelspec": {
   "display_name": "Python 3 (ipykernel)",
   "language": "python",
   "name": "python3"
  },
  "language_info": {
   "codemirror_mode": {
    "name": "ipython",
    "version": 3
   },
   "file_extension": ".py",
   "mimetype": "text/x-python",
   "name": "python",
   "nbconvert_exporter": "python",
   "pygments_lexer": "ipython3",
   "version": "3.9.12"
  }
 },
 "nbformat": 4,
 "nbformat_minor": 5
}
